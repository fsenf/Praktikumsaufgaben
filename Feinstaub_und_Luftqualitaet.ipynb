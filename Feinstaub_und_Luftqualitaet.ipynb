{
 "cells": [
  {
   "cell_type": "markdown",
   "id": "775bb8b9",
   "metadata": {},
   "source": [
    "# Feinstaub und Luftqualität"
   ]
  },
  {
   "cell_type": "markdown",
   "id": "95a8df03",
   "metadata": {},
   "source": [
    "* Autor:  Hanna Wiedenhaus\n",
    "* Datum:  25.06.2025"
   ]
  },
  {
   "cell_type": "markdown",
   "id": "83def2cb",
   "metadata": {},
   "source": [
    "Im Rahmen dieses Schülerpraktikums lernt ihr die Grundlagen der Luftqualität, die Rolle von Aerosolen und die Auswirkungen von Luftverschmutzung auf Umwelt und Gesundheit kennen. Ein besonderer Schwerpunkt liegt auf der Modellierung: Ihr erfahrt, wie Wissenschaftler mithilfe von Computermodellen die Ausbreitung und Zusammensetzung von Schadstoffen in der Atmosphäre simulieren und vorhersagen.a"
   ]
  },
  {
   "cell_type": "markdown",
   "id": "5af6fa20",
   "metadata": {},
   "source": [
    "## Einführung"
   ]
  },
  {
   "cell_type": "markdown",
   "id": "03100d79",
   "metadata": {},
   "source": [
    "Recherchiert selbstständig zu den folgenden Fragen. Nutzt dazu die angegebenen Quellen und prüft die Informationen sorgfältig. Ihr könnt auch KI-Tools wie Perplexity.ai verwenden, achtet aber immer auf die Zuverlässigkeit der Quellen."
   ]
  },
  {
   "cell_type": "markdown",
   "id": "c4dedcf1",
   "metadata": {},
   "source": [
    "Recherchefragen\n",
    "\n",
    "* Wie beeinflussen Aerosole die Luftqualität?\n",
    "* Was ist Feinstaub?\n",
    "* Was sind primäre und sekundäre Partikel?\n",
    "* Wie sind die aktuellen EU-Grenzwerte für Feinstaub?\n"
   ]
  },
  {
   "cell_type": "markdown",
   "id": "5bf369ee",
   "metadata": {},
   "source": [
    "Nutzt dazu die folgenden Quellen:\n",
    "\n",
    "* [planet-wissen.de](https://www.planet-wissen.de/natur/anatomie_des_menschen/lunge/feinstaub278.html)\n",
    "\n",
    "* [dwd/luftqualität](https://www.dwd.de/DE/klimaumwelt/ku_beratung/gesundheit/luftquali/luftquali_node.html)\n",
    "\n",
    "* [hlnug.de](https://www.hlnug.de/themen/luft/luftqualitaet/luftschadstoffe)\n",
    "\n",
    "* [dwd/aerosole](https://www.dwd.de/DE/forschung/atmosphaerenbeob/zusammensetzung_atmosphaere/aerosol/aerosol_node.html)\n",
    "  "
   ]
  },
  {
   "cell_type": "markdown",
   "id": "016052e5",
   "metadata": {},
   "source": [
    "## Messdaten zur Luftqualität"
   ]
  },
  {
   "cell_type": "markdown",
   "id": "1262cd74",
   "metadata": {},
   "source": [
    "Die Europäische Umweltagentur (EEA) stellt Messdaten zur Luftqualität in Europa bereit. Eine Übersicht über alle Messstationen findet ihr [hier](https://airindex.eea.europa.eu/AQI/index.html).\n",
    "\n",
    "Die Karte gibt den European Air Quality Index (EAQI) an, einen Echtzeit-Indikator für die Luftqualität in Europa. Er zeigt an, wie gut oder schlecht die Luft an bestimmten Orten aktuell ist.\n",
    "\n",
    "Wie funktioniert der Index?\n",
    "\n",
    "Der Index bewertet die Luftqualität anhand der Konzentration von fünf Hauptschadstoffen:\n",
    "\n",
    "* PM10 \n",
    "* PM2.5 \n",
    "* NO₂ (Stickstoffdioxid)\n",
    "* O₃ (Ozon)\n",
    "* SO₂ (Schwefeldioxid)\n",
    "\n",
    "Der jeweils schlechteste Einzelwert bestimmt den Gesamtindex an einer Station (\"Worst case\"-Prinzip).\n",
    "\n",
    "Sucht euch eine Station eurer Wahl aus und überprüft die aktuelle Luftqualität.\n"
   ]
  },
  {
   "cell_type": "markdown",
   "id": "31a25ede",
   "metadata": {},
   "source": [
    "## Modellierung von Luftqualität"
   ]
  },
  {
   "cell_type": "markdown",
   "id": "7b13c6ad",
   "metadata": {},
   "source": [
    "Warum brauchen wir Modelle? Warum sind Messungen für Modelle wichtig?\n",
    "* Modelle sind notwendig, um die Ausbreitung und Konzentration von Luftschadstoffen an Orten und zu Zeiten abzuschätzen, an denen keine direkten Messungen vorliegen. Sie ermöglichen Prognosen für die Zukunft und helfen, die Wirkung von Maßnahmen zur Luftreinhaltung zu bewerten\n",
    "* Modelle nutzen mathematische Formeln und Eingangsdaten wie Emissionen, Wetterbedingungen und geografische Informationen, um die Luftqualität zu berechnen\n",
    "* Messungen sind unverzichtbar, um Modelle zu überprüfen und zu verbessern. Sie dienen als Vergleichsgrundlage, um die Genauigkeit der Modellrechnungen zu beurteilen und die Modelle an die Realität anzupassen\n"
   ]
  },
  {
   "cell_type": "markdown",
   "id": "b0703fb3",
   "metadata": {},
   "source": [
    "## Übung: Ein Modell ausprobieren"
   ]
  },
  {
   "cell_type": "markdown",
   "id": "0a219ce6",
   "metadata": {},
   "source": [
    "Öffnet das vereinfachte Online-Modell: https://has.concord.org/air-pollution.html\n",
    "\n",
    "Probiert verschiedene Einstellungen aus:\n",
    "* Verändert die Wetterbedingungen (z.B. Wind, Temperatur, Niederschlag).\n",
    "* Passt die Emissionen (z.B. Verkehr, Industrie) an.\n",
    "\n",
    "Beobachtet, wie sich die Konzentrationen der Luftschadstoffe verändern.\n",
    "* Wie wirken sich Änderungen bei der Meteorologie auf die Luftqualität aus?\n",
    "* Was passiert, wenn die Emissionen steigen oder sinken?\n"
   ]
  },
  {
   "cell_type": "markdown",
   "id": "72d35b34",
   "metadata": {},
   "source": [
    "## Übung: Ein Model auswerten"
   ]
  },
  {
   "cell_type": "markdown",
   "id": "26e87fb3",
   "metadata": {},
   "source": [
    "Nun kommen wir zur eigentlichen Arbeit in unserer Abteilung, die Auswertung der Modellsimulationen. Dazu steht euch beispielhaft ein Ergebnis eines Laufs unseres Chemie-Transport Modells COSMO-MUSCAT zur Verfügung.\n",
    "\n",
    "Was ist COSMO-MUSCAT?\n",
    "\n",
    "COSMO-MUSCAT ist ein Computermodell, das:\n",
    "* das Wettergeschehen (COSMO) mit\n",
    "* der chemischen Ausbreitung von Luftschadstoffen (MUSCAT) verbindet.\n",
    "\n",
    "Es berechnet stündlich, wie Schadstoffe durch Wind, Sonne, Emissionen, Chemie und Niederschlag in der Atmosphäre transportiert und umgewandelt werden."
   ]
  },
  {
   "cell_type": "markdown",
   "id": "ded5dbeb",
   "metadata": {},
   "source": [
    "   1. Model Daten herunterladen und lokal abspeichern:  \n",
    "      Die Daten kannst du über folgenden Link herunterladen: [Model daten](https://sync.academiccloud.de/index.php/s/R8Hvw49IRmJX3x6)\n",
    "\n",
    "   2. [Notebook „Luftqualität_Modeldaten_plotten.ipynb“ herunterladen](https://sync.academiccloud.de/index.php/s/XypLGphUpTvPMxy)\n",
    "\n",
    "   3. Starte Jupyter und öffne das heruntergeladene Notebook. Die restlichen Erklärungen findest du dort. \n",
    "\n"
   ]
  },
  {
   "cell_type": "markdown",
   "id": "8cebce18",
   "metadata": {},
   "source": []
  }
 ],
 "metadata": {
  "language_info": {
   "name": "python"
  }
 },
 "nbformat": 4,
 "nbformat_minor": 5
}
