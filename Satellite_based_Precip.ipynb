{
 "cells": [
  {
   "cell_type": "markdown",
   "metadata": {},
   "source": [
    "<img src=\"rainsphere.png\" width=\"1000\">"
   ]
  },
  {
   "cell_type": "markdown",
   "metadata": {},
   "source": [
    "![Rainsphere Image](rainsphere.png)\n"
   ]
  },
  {
   "cell_type": "markdown",
   "metadata": {},
   "source": [
    "# Satellitenbasierte Niederschlagsmessung"
   ]
  },
  {
   "cell_type": "markdown",
   "metadata": {},
   "source": [
    "* Autor:  Fabian Senf\n",
    "* Datum:  22.Mai 2017"
   ]
  },
  {
   "cell_type": "markdown",
   "metadata": {},
   "source": [
    "In einem aktuellen Artikel im Fachjournal *Bulletin of the American Meteorological Society* hat ein amerikanisches Forscherteam das Projekt *RainSphere* vorgestellt, dass sich mit der einfachen Darstellung und Analyse von globalem Niederschlag beschäftigt. (Nguyen et al., 2017).\n",
    "\n",
    "Die Praktikumsaufgabe beschäftigt sich mit diesem Projekt, welches unter diesem [Link](http://journals.ametsoc.org/doi/full/10.1175/BAMS-D-16-0036.1) beschrieben wird.\n",
    "\n",
    "\n",
    "Nguyen, P., Sorooshian, S., Thorstensen, A., Tran, H., Huynh, P., Pham, T., ... & Ashouri, H. (2016). Exploring trends through “RainSphere”: Research data transformed into public knowledge. Bulletin of the American Meteorological Society"
   ]
  },
  {
   "cell_type": "markdown",
   "metadata": {},
   "source": [
    "## Einführung"
   ]
  },
  {
   "cell_type": "markdown",
   "metadata": {},
   "source": [
    "Beschäftige Dich einführend mit dem Thema:\n",
    "\n",
    "* Lade das Paper herunter und schaue es Dir an / überfliege es.\n",
    "* Finde auf Basis des Papers das Portal, in dem die Niederschlagsdaten vorgestellt werden\n",
    "* Spiele ein bißchen mit den verschiedenen Visualisierungsfunktionen\n",
    "* Bereite ggfs. ein Dokument vor, in dem Du recherchierte Informationen und Abbildungen sammelst"
   ]
  },
  {
   "cell_type": "markdown",
   "metadata": {},
   "source": [
    "## Globale Verteilung von Niederschlag"
   ]
  },
  {
   "cell_type": "markdown",
   "metadata": {},
   "source": [
    "Die erste Aufgabe beschäftigt sich mit der globalen Verteilung von Niederschlag. Versuche anhand der visualisierten Daten folgende Fragen zu beantworten:\n",
    "\n",
    "**aus Beobachtungen**\n",
    "\n",
    "* Wie ist Niederschlag im Mittel global verteilt bzgl. Klimazonen und Niederschlagsregimen?\n",
    "* Wie verändert sich die Verteilung des Niederschlags mit den Jahreszeiten?\n",
    "* Gibt es Hinweise auf zeitliche Trends in den Niederschlagdaten?\n",
    "\n",
    "**Vergleich mit den Klimasimulationen**\n",
    "\n",
    "* Können Klimasimulationen die prinzipielle Verteilung des Niederschlags widerspiegeln?\n",
    "* Welche Veränderungen der Niederschlagsverteilung können aus den Klimaprojektionen gewonnen werden?"
   ]
  },
  {
   "cell_type": "markdown",
   "metadata": {},
   "source": [
    "## Niederschlagsverteilung über Deutschland"
   ]
  },
  {
   "cell_type": "markdown",
   "metadata": {},
   "source": [
    "Als nächstes wird die Verteilung des Niederschlags über Deutschland betrachtet. Folgende Fragen:\n",
    "\n",
    "* Wie ist Niederschlag über Deutschland im Mittel verteilt? Warum könnte das so sein?\n",
    "* Welche Veränderung gab es in der Vergangenheit und welche werden für die Zukunft erwartet?\n",
    "* Wie ist die saisonale und Jahr-zu-Jahr Variabilität der Niederschlagsverteilung?\n",
    "\n",
    "Der Deutsche Wetterdienst betreibt ein dichtes Netzwerk an bodengebundenen Niederschlagsmessungen in Kombination mit einem Radarnetzwerk für die Niederschlagsfernerkundung. Versuche über das Internet (auch auf der Seite des DWD, https://www.dwd.de, vielleicht Stichwort Radarklimatologie) Informationen über die Niederschlagsverteilung aus den bodengebundenen Messungen zu erhalten. \n",
    "\n",
    "* Wie vergleichen sich boden- und satelliten-gestützte Niederschlagsverteilungen?"
   ]
  },
  {
   "cell_type": "markdown",
   "metadata": {},
   "source": [
    "## Niederschlagsverteilung im Urlaubsland"
   ]
  },
  {
   "cell_type": "markdown",
   "metadata": {},
   "source": [
    "Suche Dir jetzt ein Land aus, in dem Du mal im Urlaub warst, oder in dem Du gerne Urlaub machen möchtest. \n",
    "\n",
    "* Schaue Dir die räumliche und zeitliche Verteilung von Niederschlag an (wie oben) und vergleiche sie mit der in Deutschland. \n",
    "* Was bringt die Zukunft für Dein Urlaubsland?"
   ]
  },
  {
   "cell_type": "markdown",
   "metadata": {},
   "source": [
    "## Fortgeschrittene Recherche"
   ]
  },
  {
   "cell_type": "markdown",
   "metadata": {},
   "source": [
    "Versuche folgende Informationen zu recherchieren:\n",
    "\n",
    "* Welche Meßinstrumente werden für die Analyse des Niederschlags in *RainSphere* genutzt? \n",
    "* Wie ist das zugrunde liegende Meßprinzip?\n",
    "* Was haben die verschiedenen Klimaszenarien RCP2.6, RCP4.5 und RCP8.5 für eine Bedeutung?"
   ]
  }
 ],
 "metadata": {
  "kernelspec": {
   "display_name": "Python 3",
   "language": "python",
   "name": "python3"
  },
  "language_info": {
   "codemirror_mode": {
    "name": "ipython",
    "version": 3
   },
   "file_extension": ".py",
   "mimetype": "text/x-python",
   "name": "python",
   "nbconvert_exporter": "python",
   "pygments_lexer": "ipython3",
   "version": "3.7.3"
  }
 },
 "nbformat": 4,
 "nbformat_minor": 1
}
