{
 "cells": [
  {
   "cell_type": "markdown",
   "metadata": {},
   "source": [
    "![IPCC Cloud Fraction Image](IPCC-Cloud-Fraction.png)\n"
   ]
  },
  {
   "cell_type": "markdown",
   "metadata": {},
   "source": [
    "# Wolken und ihre Klimawirkung"
   ]
  },
  {
   "cell_type": "markdown",
   "metadata": {},
   "source": [
    "* Autor:  Fabian Senf\n",
    "* Datum:  19. November 2019"
   ]
  },
  {
   "cell_type": "markdown",
   "metadata": {},
   "source": [
    "Wolken begegnen uns im Alltag, wenn immer uns nach draußen bewegen und nicht gerade strahlend blauer Himmel ist. Wolken spenden uns Schatten im Sommer und machen einen trüben Novembertag erst sorichtig dunkel und trist. Wenn Wolken auf uns herunterfallen, dann holen wir Schirm oder Schlitten heraus. \n",
    "\n",
    "Doch nicht nur für uns persönlich omnipräsent und wichtig, auch das Klima unserer Erde wird durch Wolken reguliert. Die Praktikumsaufgabe beschäftigt sich mit der Frage, welche Wolken es gibt, wie sie global verteilt sind und wie sie das Klima der Erde beeinflussen."
   ]
  },
  {
   "cell_type": "markdown",
   "metadata": {},
   "source": [
    "## Einführung"
   ]
  },
  {
   "cell_type": "markdown",
   "metadata": {},
   "source": [
    "Beschäftige Dich einführend mit dem Thema:\n",
    "\n",
    "* Verschaffe Dir einen Überblick über Wolkenarten\n",
    "* Wie entstehen Wolken? \n",
    "* Woraus bestehen Wolken?\n",
    "* Was bewirken Wolken?\n",
    "\n",
    "Recherchiere im Internet. Starte mit folgenden Links:\n",
    "\n",
    "* [https://wiki.bildungsserver.de/klimawandel/index.php/Wolken](https://wiki.bildungsserver.de/klimawandel/index.php/Wolken)\n",
    "* [https://www.planet-wissen.de/natur/klima/wetterphaenomene/pwiewolkenalswetterzeichen100.html](https://www.planet-wissen.de/natur/klima/wetterphaenomene/pwiewolkenalswetterzeichen100.html)\n",
    "* [http://www.wolkenatlas.de/](http://www.wolkenatlas.de/)\n",
    "* [https://www.dwd.de/DE/service/lexikon/begriffe/W/Wolkenatlas_pdf.html](https://www.dwd.de/DE/service/lexikon/begriffe/W/Wolkenatlas_pdf.html)\n",
    "* [https://cloudatlas.wmo.int/home.html](https://cloudatlas.wmo.int/home.html)"
   ]
  },
  {
   "cell_type": "markdown",
   "metadata": {},
   "source": [
    "## Aktuelle Bewölkungssituation"
   ]
  },
  {
   "cell_type": "markdown",
   "metadata": {},
   "source": [
    "Wie ist die aktuelle Bewölkungssituation an dem Ort, wo Du Dich befindest? \n",
    "\n",
    "* Schaue aus den Fenster! Welche Wolken siehst Du und was verändert sich im Laufe des Tages?\n",
    "* Schaue Dir Satellitenbilder oder Filme an, um die Bewölkung über Gesamtdeutschland oder Europa zu sehen!\n",
    "    * [https://www.dwd.de/DE/leistungen/satellit_betrachter/sat-viewer/sat-viewer_node.html](https://www.dwd.de/DE/leistungen/satellit_betrachter/sat-viewer/sat-viewer_node.html) \n",
    "    * [https://kachelmannwetter.com/de/sat/satellit-hd-5min.html](https://kachelmannwetter.com/de/sat/satellit-hd-5min.html)\n",
    "   \n",
    " \n",
    "__Erweitert__:\n",
    "\n",
    "Bei EUMETSAT findest Du verschiedene Karten von Meteosat\n",
    "\n",
    "* [https://eumetview.eumetsat.int/mapviewer/](https://eumetview.eumetsat.int/mapviewer/)\n",
    "* Schaue Dir die verschiedenen Produkte / RGBs an und versuche zu verstehen, was Du siehst.\n",
    "\n",
    "EUMeTrain hat ganz viel Material, um besser zu verstehen, was man mit einem Satelliten sehen kann.\n",
    "* Gehe durch die Tutorials bei [http://www.eumetrain.org/courses/satellite_image_interpretation.html](http://www.eumetrain.org/courses/satellite_image_interpretation.html)"
   ]
  },
  {
   "cell_type": "markdown",
   "metadata": {},
   "source": [
    "## Wolken im Urlaubsland"
   ]
  },
  {
   "cell_type": "markdown",
   "metadata": {},
   "source": [
    "Suche Dir jetzt ein Land aus, in dem Du mal im Urlaub warst, oder in dem Du gerne Urlaub machen möchtest. \n",
    "\n",
    "* Schaue Dir die räumliche und zeitliche Verteilung von Wolken und vergleiche sie mit der in Deutschland. "
   ]
  },
  {
   "cell_type": "markdown",
   "metadata": {},
   "source": [
    "## Globale Verteilung von Wortenarten"
   ]
  },
  {
   "cell_type": "markdown",
   "metadata": {},
   "source": [
    "Wie sind Wolken global über die Erde verteilt?\n",
    "\n",
    "**Benutze Beobachtungen von Satellitendaten um die Frage zu beantworten**\n",
    "\n",
    "* Die Amerikanische Weltraumbehörde NASA stellt eine schöne Übersicht aus Daten polarumlaufender Satelliten zur Verfügung, siehe [https://worldview.earthdata.nasa.gov/](https://worldview.earthdata.nasa.gov/).\n",
    "* Hier kann man sich die Bilder des amerikanischen Satelliten GOES anschauen [https://www.star.nesdis.noaa.gov/goes/](https://www.star.nesdis.noaa.gov/goes/)."
   ]
  },
  {
   "cell_type": "markdown",
   "metadata": {},
   "source": [
    "## Wolken im Klimasystem"
   ]
  },
  {
   "cell_type": "markdown",
   "metadata": {},
   "source": [
    "Überlege Dir, wie Wolken das Klima der Erde beeinflussen können. Informationen findest Du hier:\n",
    "[http://wiki.bildungsserver.de/klimawandel/index.php/Wolken_im_Klimasystem](http://wiki.bildungsserver.de/klimawandel/index.php/Wolken_im_Klimasystem)\n",
    "\n",
    "\n",
    "__Langzeit-Beobachtungen__\n",
    "\n",
    "* Das ISCCP-Projekt sammelt seit Jahrzehnten Informationen über Wolken. \n",
    "    * Gehe auf die Website [https://isccp.giss.nasa.gov/products/browsed2.html](https://isccp.giss.nasa.gov/products/browsed2.html)\n",
    "    * Stelle eine Variable & Periode ein. Drücke <View> um ein Bild zu bekommen. Was siehst Du?\n",
    "    * Verändere die Eingaben und spiele damit.\n",
    "    \n",
    "    \n",
    "__Wie könnte sich unser Klima entwickeln?__\n",
    "\n",
    "* Schaue Dir den Vergleiche von Klimaprojektionen an. Hier kann man sich Vergelichskarten erzeugen. [http://climexp.knmi.nl/plot_atlas_form.py](http://climexp.knmi.nl/plot_atlas_form.py). (Kaum Wolken-Variablen...)\n"
   ]
  },
  {
   "cell_type": "markdown",
   "metadata": {},
   "source": [
    "## Globale Simulation von Wolken"
   ]
  },
  {
   "cell_type": "markdown",
   "metadata": {},
   "source": [
    "1. Hole Dir Simulationsdaten bei mir\n",
    "\n",
    "2. Starte Jupyter Notebook\n",
    "\n",
    "3. Führe das bereitgestellte Jupyter Notebook zum Testen aus \n",
    "\n",
    "4. Erstelle Dir Karten \n",
    "    \n",
    "    * der mittleren Bedeckungsgrade von flachen, mittelhohen und hohen Wolken aus ICON-Simulationen.\n",
    "    * der mittleren emitierten thermischen Strahlung (Infrarot)\n",
    "    * der mittleren reflektieren Strahlung (Sonnenlicht)\n"
   ]
  }
 ],
 "metadata": {
  "kernelspec": {
   "display_name": "Python 3",
   "language": "python",
   "name": "python3"
  },
  "language_info": {
   "codemirror_mode": {
    "name": "ipython",
    "version": 3
   },
   "file_extension": ".py",
   "mimetype": "text/x-python",
   "name": "python",
   "nbconvert_exporter": "python",
   "pygments_lexer": "ipython3",
   "version": "3.7.3"
  }
 },
 "nbformat": 4,
 "nbformat_minor": 1
}
